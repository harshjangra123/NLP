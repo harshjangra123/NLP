{
 "cells": [
  {
   "cell_type": "markdown",
   "id": "83a88f9d-c7ee-406f-83d2-5f41ef216cbf",
   "metadata": {},
   "source": [
    "stemming\n",
    "## coments of product is positive or negative\n",
    "## classification problem\n",
    "## reviews"
   ]
  },
  {
   "cell_type": "code",
   "execution_count": 1,
   "id": "9a4fa7aa-2ae2-40b8-bd68-7f7b1d73b4ba",
   "metadata": {},
   "outputs": [],
   "source": [
    "import nltk"
   ]
  },
  {
   "cell_type": "code",
   "execution_count": 2,
   "id": "ed138d0c-1eb8-4bd5-8c67-9e5694aea167",
   "metadata": {},
   "outputs": [],
   "source": [
    "corpus = \"\"\"hi my name is harsh . i am a btech strudent! i am intersested in machine learning.\"\"\""
   ]
  },
  {
   "cell_type": "code",
   "execution_count": 3,
   "id": "99986347-99a9-41ab-bc6a-3a5bc21c2978",
   "metadata": {},
   "outputs": [],
   "source": [
    "from nltk.tokenize import sent_tokenize\n",
    "from nltk.tokenize import word_tokenize"
   ]
  },
  {
   "cell_type": "code",
   "execution_count": 4,
   "id": "62c7c1f2-133d-40e0-99d9-88c2ffa399a6",
   "metadata": {},
   "outputs": [
    {
     "name": "stderr",
     "output_type": "stream",
     "text": [
      "[nltk_data] Downloading package punkt to\n",
      "[nltk_data]     C:\\Users\\harsh\\AppData\\Roaming\\nltk_data...\n",
      "[nltk_data]   Package punkt is already up-to-date!\n",
      "[nltk_data] Downloading package punkt_tab to\n",
      "[nltk_data]     C:\\Users\\harsh\\AppData\\Roaming\\nltk_data...\n",
      "[nltk_data]   Package punkt_tab is already up-to-date!\n"
     ]
    },
    {
     "data": {
      "text/plain": [
       "True"
      ]
     },
     "execution_count": 4,
     "metadata": {},
     "output_type": "execute_result"
    }
   ],
   "source": [
    "nltk.download('punkt')\n",
    "nltk.download('punkt_tab')"
   ]
  },
  {
   "cell_type": "code",
   "execution_count": 5,
   "id": "06558ba4-ae62-4de9-833b-2a0fa88c9ecb",
   "metadata": {},
   "outputs": [],
   "source": [
    "words = word_tokenize(corpus)"
   ]
  },
  {
   "cell_type": "code",
   "execution_count": 6,
   "id": "7c20c0e3-d018-414b-9579-ce02d6959120",
   "metadata": {},
   "outputs": [],
   "source": [
    "# porter stemmer\n",
    "from nltk.stem import PorterStemmer"
   ]
  },
  {
   "cell_type": "code",
   "execution_count": 7,
   "id": "d4b87edb-73bc-41ab-8b8d-bc8e264deec6",
   "metadata": {},
   "outputs": [],
   "source": [
    "stemmer = PorterStemmer()"
   ]
  },
  {
   "cell_type": "code",
   "execution_count": 8,
   "id": "f5c0a822-d75d-43f7-879c-0cd47cfdaf4a",
   "metadata": {},
   "outputs": [
    {
     "name": "stdout",
     "output_type": "stream",
     "text": [
      "hi------>hi\n",
      "my------>my\n",
      "name------>name\n",
      "is------>is\n",
      "harsh------>harsh\n",
      ".------>.\n",
      "i------>i\n",
      "am------>am\n",
      "a------>a\n",
      "btech------>btech\n",
      "strudent------>strudent\n",
      "!------>!\n",
      "i------>i\n",
      "am------>am\n",
      "intersested------>intersest\n",
      "in------>in\n",
      "machine------>machin\n",
      "learning------>learn\n",
      ".------>.\n"
     ]
    }
   ],
   "source": [
    "for word in words:\n",
    "    print(word + \"------>\" + stemmer.stem(word))"
   ]
  },
  {
   "cell_type": "code",
   "execution_count": 9,
   "id": "d3d2caae-8514-4b26-a7ce-17e7b3bdeaf9",
   "metadata": {},
   "outputs": [
    {
     "data": {
      "text/plain": [
       "'congratul'"
      ]
     },
     "execution_count": 9,
     "metadata": {},
     "output_type": "execute_result"
    }
   ],
   "source": [
    "stemmer.stem('congratulations')"
   ]
  },
  {
   "cell_type": "code",
   "execution_count": 10,
   "id": "3396871a",
   "metadata": {},
   "outputs": [
    {
     "data": {
      "text/plain": [
       "'sit'"
      ]
     },
     "execution_count": 10,
     "metadata": {},
     "output_type": "execute_result"
    }
   ],
   "source": [
    "stemmer.stem('sitting')"
   ]
  },
  {
   "cell_type": "code",
   "execution_count": null,
   "id": "de74a4d8",
   "metadata": {},
   "outputs": [],
   "source": []
  }
 ],
 "metadata": {
  "kernelspec": {
   "display_name": "Python 3 (ipykernel)",
   "language": "python",
   "name": "python3"
  },
  "language_info": {
   "codemirror_mode": {
    "name": "ipython",
    "version": 3
   },
   "file_extension": ".py",
   "mimetype": "text/x-python",
   "name": "python",
   "nbconvert_exporter": "python",
   "pygments_lexer": "ipython3",
   "version": "3.12.1"
  }
 },
 "nbformat": 4,
 "nbformat_minor": 5
}
