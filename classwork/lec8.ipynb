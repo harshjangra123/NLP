{
 "cells": [
  {
   "cell_type": "code",
   "execution_count": 1,
   "metadata": {},
   "outputs": [],
   "source": [
    "from collections import defaultdict"
   ]
  },
  {
   "cell_type": "code",
   "execution_count": 2,
   "metadata": {},
   "outputs": [],
   "source": [
    "vectors = {\n",
    "    \"A\":(1,2),\"B\":(2,3),\"C\":(8,9),\"D\":(9,10),\"E\":(10,1)\n",
    "}"
   ]
  },
  {
   "cell_type": "code",
   "execution_count": 4,
   "metadata": {},
   "outputs": [],
   "source": [
    "def hash_function1(x):\n",
    "    return 1 if x[0]<5 else 2"
   ]
  },
  {
   "cell_type": "code",
   "execution_count": 6,
   "metadata": {},
   "outputs": [],
   "source": [
    "def hash_function2(x):\n",
    "    return 1 if x[1]<5 else 2"
   ]
  },
  {
   "cell_type": "code",
   "execution_count": 7,
   "metadata": {},
   "outputs": [],
   "source": [
    "def apply_hash(vector):\n",
    "    buckets = defaultdict(list)\n",
    "    for label, vector in vectors.items():\n",
    "        bucket_id = (hash_function1(vector),hash_function2(vector))\n",
    "        buckets[bucket_id].append(label)\n",
    "    return buckets"
   ]
  },
  {
   "cell_type": "code",
   "execution_count": 9,
   "metadata": {},
   "outputs": [],
   "source": [
    "hash_buckets = apply_hash(vector=vectors)"
   ]
  },
  {
   "cell_type": "code",
   "execution_count": 14,
   "metadata": {},
   "outputs": [
    {
     "name": "stdout",
     "output_type": "stream",
     "text": [
      "(1, 1)    ['A', 'B']\n",
      "(2, 2)    ['C', 'D']\n",
      "(2, 1)    ['E']\n"
     ]
    }
   ],
   "source": [
    "for bucket,grp in hash_buckets.items():\n",
    "    print(bucket,\"  \",grp)"
   ]
  },
  {
   "cell_type": "code",
   "execution_count": 15,
   "metadata": {},
   "outputs": [],
   "source": [
    "import numpy as np\n",
    "from sklearn.random_projection import SparseRandomProjection\n",
    "from sklearn.metrics.pairwise import cosine_similarity\n",
    "import matplotlib.pyplot as plt\n"
   ]
  },
  {
   "cell_type": "code",
   "execution_count": 17,
   "metadata": {},
   "outputs": [],
   "source": [
    "data = np.array([[1,0,1],[1,1,0],[0,1,1],[1,1,1],[0,0,1]])"
   ]
  },
  {
   "cell_type": "code",
   "execution_count": 18,
   "metadata": {},
   "outputs": [],
   "source": [
    "lsh = SparseRandomProjection(n_components=2)"
   ]
  },
  {
   "cell_type": "code",
   "execution_count": 19,
   "metadata": {},
   "outputs": [],
   "source": [
    "data_transformed = lsh.fit_transform(data)"
   ]
  },
  {
   "cell_type": "code",
   "execution_count": 20,
   "metadata": {},
   "outputs": [],
   "source": [
    "cos_sim = cosine_similarity(data_transformed)"
   ]
  },
  {
   "cell_type": "code",
   "execution_count": 21,
   "metadata": {},
   "outputs": [
    {
     "data": {
      "text/plain": [
       "array([[ 1.86120972, -0.93060486],\n",
       "       [ 1.86120972,  0.93060486],\n",
       "       [ 1.86120972,  0.        ],\n",
       "       [ 2.79181458,  0.        ],\n",
       "       [ 0.93060486, -0.93060486]])"
      ]
     },
     "execution_count": 21,
     "metadata": {},
     "output_type": "execute_result"
    }
   ],
   "source": [
    "data_transformed"
   ]
  },
  {
   "cell_type": "code",
   "execution_count": 22,
   "metadata": {},
   "outputs": [
    {
     "data": {
      "text/plain": [
       "array([[1.        , 0.6       , 0.89442719, 0.89442719, 0.9486833 ],\n",
       "       [0.6       , 1.        , 0.89442719, 0.89442719, 0.31622777],\n",
       "       [0.89442719, 0.89442719, 1.        , 1.        , 0.70710678],\n",
       "       [0.89442719, 0.89442719, 1.        , 1.        , 0.70710678],\n",
       "       [0.9486833 , 0.31622777, 0.70710678, 0.70710678, 1.        ]])"
      ]
     },
     "execution_count": 22,
     "metadata": {},
     "output_type": "execute_result"
    }
   ],
   "source": [
    "cos_sim"
   ]
  },
  {
   "cell_type": "code",
   "execution_count": 23,
   "metadata": {},
   "outputs": [
    {
     "data": {
      "text/plain": [
       "<matplotlib.collections.PathCollection at 0x2b719271e50>"
      ]
     },
     "execution_count": 23,
     "metadata": {},
     "output_type": "execute_result"
    },
    {
     "data": {
      "image/png": "[encoded data removed]",
      "text/plain": [
       "<Figure size 640x480 with 1 Axes>"
      ]
     },
     "metadata": {},
     "output_type": "display_data"
    }
   ],
   "source": [
    "plt.scatter(data_transformed[:,0],data_transformed[:,1],color=\"b\")"
   ]
  },
  {
   "cell_type": "code",
   "execution_count": 24,
   "metadata": {},
   "outputs": [],
   "source": [
    "from sklearn.feature_extraction.text import TfidfTransformer\n",
    "from sklearn.random_projection import SparseRandomProjection\n",
    "from sklearn.decomposition import PCA"
   ]
  },
  {
   "cell_type": "code",
   "execution_count": 30,
   "metadata": {},
   "outputs": [],
   "source": [
    "documents = [\n",
    "    \"The quick brown fox jumps over the lazy dog.\",\n",
    "    \"Text preprocessing is an important step in NLP.\",\n",
    "    \"This is a sample document for text processing.\",\n",
    "    \"Natural Language Processing helps machines understand human language.\",\n",
    "    \"Data cleaning and normalization are crucial in data science.\"\n",
    "]\n"
   ]
  },
  {
   "cell_type": "code",
   "execution_count": 31,
   "metadata": {},
   "outputs": [],
   "source": [
    "vectorizer = TfidfTransformer()"
   ]
  },
  {
   "cell_type": "code",
   "execution_count": 33,
   "metadata": {},
   "outputs": [],
   "source": [
    "from sklearn.feature_extraction.text import CountVectorizer, TfidfTransformer"
   ]
  },
  {
   "cell_type": "code",
   "execution_count": 34,
   "metadata": {},
   "outputs": [
    {
     "name": "stdout",
     "output_type": "stream",
     "text": [
      "[[0.         0.         0.         0.30151134 0.         0.\n",
      "  0.         0.         0.30151134 0.         0.30151134 0.\n",
      "  0.         0.         0.         0.         0.30151134 0.\n",
      "  0.30151134 0.         0.         0.         0.         0.30151134\n",
      "  0.         0.         0.30151134 0.         0.         0.\n",
      "  0.         0.60302269 0.         0.        ]\n",
      " [0.37924665 0.         0.         0.         0.         0.\n",
      "  0.         0.         0.         0.         0.         0.\n",
      "  0.         0.37924665 0.30597381 0.30597381 0.         0.\n",
      "  0.         0.         0.         0.37924665 0.         0.\n",
      "  0.37924665 0.         0.         0.         0.         0.37924665\n",
      "  0.30597381 0.         0.         0.        ]\n",
      " [0.         0.         0.         0.         0.         0.\n",
      "  0.         0.40986539 0.         0.40986539 0.         0.\n",
      "  0.         0.         0.         0.33067681 0.         0.\n",
      "  0.         0.         0.         0.         0.         0.\n",
      "  0.         0.33067681 0.         0.40986539 0.         0.\n",
      "  0.33067681 0.         0.40986539 0.        ]\n",
      " [0.         0.         0.         0.         0.         0.\n",
      "  0.         0.         0.         0.         0.         0.32189611\n",
      "  0.32189611 0.         0.         0.         0.         0.64379222\n",
      "  0.         0.32189611 0.32189611 0.         0.         0.\n",
      "  0.         0.25970376 0.         0.         0.         0.\n",
      "  0.         0.         0.         0.32189611]\n",
      " [0.         0.30641253 0.30641253 0.         0.30641253 0.30641253\n",
      "  0.61282506 0.         0.         0.         0.         0.\n",
      "  0.         0.         0.2472117  0.         0.         0.\n",
      "  0.         0.         0.         0.         0.30641253 0.\n",
      "  0.         0.         0.         0.         0.30641253 0.\n",
      "  0.         0.         0.         0.        ]]\n"
     ]
    }
   ],
   "source": [
    "# Step 1: Convert the documents to a bag-of-words representation\n",
    "count_vectorizer = CountVectorizer()\n",
    "word_count_vector = count_vectorizer.fit_transform(documents)\n",
    "\n",
    "# Step 2: Apply TF-IDF transformation\n",
    "tfidf_transformer = TfidfTransformer()\n",
    "tfidf_matrix = tfidf_transformer.fit_transform(word_count_vector).toarray()\n",
    "\n",
    "print(tfidf_matrix)"
   ]
  },
  {
   "cell_type": "code",
   "execution_count": null,
   "metadata": {},
   "outputs": [],
   "source": []
  }
 ],
 "metadata": {
  "kernelspec": {
   "display_name": "Python 3",
   "language": "python",
   "name": "python3"
  },
  "language_info": {
   "codemirror_mode": {
    "name": "ipython",
    "version": 3
   },
   "file_extension": ".py",
   "mimetype": "text/x-python",
   "name": "python",
   "nbconvert_exporter": "python",
   "pygments_lexer": "ipython3",
   "version": "3.12.1"
  }
 },
 "nbformat": 4,
 "nbformat_minor": 2
}
