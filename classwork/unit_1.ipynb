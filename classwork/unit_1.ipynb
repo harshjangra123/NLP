{
 "cells": [
  {
   "cell_type": "code",
   "execution_count": 1,
   "metadata": {},
   "outputs": [],
   "source": [
    "positive_reviews = [\n",
    "    \"Incredible movie with a heartwarming story! The performances were top-notch and the cinematography was stunning. A true masterpiece that left me speechless. Highly recommend to everyone!\",\n",
    "    \"Absolutely fantastic! The plot was engaging from start to finish, the characters were well-developed, and the special effects were out of this world. This film is a must-see!\",\n",
    "    \"An exhilarating and emotional rollercoaster. The director did a brilliant job bringing the story to life. The acting was phenomenal, and the soundtrack perfectly complemented the visuals. Five stars!\",\n",
    "    \"This is one of the best films I have ever seen. The storyline was unique and captivating, and the acting was impeccable. It’s a movie that will stay with you long after the credits roll. Highly recommended!\",\n",
    "    \"A true gem of cinema. The film combines excellent storytelling with stunning visuals. The cast gave outstanding performances, and the direction was flawless. This is a movie worth watching multiple times.\",\n",
    "    \"An absolute delight! The humor was spot-on, the characters were endearing, and the plot was both original and compelling. It’s one of those movies you can watch over and over again and still enjoy.\",\n",
    "    \"Brilliantly crafted and emotionally resonant. The film’s narrative was powerful and the execution was perfect. The chemistry between the actors was remarkable, making this a must-watch.\",\n",
    "    \"A masterpiece in every sense of the word. The film had everything – great story, incredible performances, and beautiful cinematography. It’s an experience that will leave you thinking long after it’s over.\",\n",
    "    \"This movie is a triumph. The direction was superb, and the screenplay was incredibly well-written. The performances were heartfelt and genuine, making it a highly enjoyable watch.\",\n",
    "    \"Wonderful and engaging film that kept me entertained throughout. The plot was intriguing and the characters were well-developed. Definitely one of the best movies I’ve seen in a long time.\",\n",
    "    \"A heartwarming tale with exceptional performances. The story was touching and the cinematography was beautiful. This film is a true work of art that deserves all the praise it gets.\",\n",
    "    \"An outstanding film with a gripping narrative. The characters were well-developed, and the plot was both thrilling and emotional. This is a movie that will stay with you long after watching.\",\n",
    "    \"The perfect blend of drama and comedy. The film had a unique storyline, and the actors delivered stellar performances. It’s an enjoyable experience from beginning to end.\",\n",
    "    \"An extraordinary movie that exceeded all my expectations. The direction was superb, and the cast was exceptional. It’s a film that I would recommend to everyone without hesitation.\",\n",
    "    \"A delightful film that combines humor and heart. The story was engaging, and the performances were top-notch. This movie is a feel-good experience that’s worth watching.\",\n",
    "    \"A fantastic film with a compelling story. The direction was flawless, and the acting was superb. It’s a movie that delivers on all fronts and is sure to leave a lasting impression.\",\n",
    "    \"A cinematic masterpiece with brilliant storytelling. The characters were relatable, and the plot was captivating. This is a film that will be remembered as a classic.\",\n",
    "    \"An exceptional film with a captivating narrative. The acting was top-notch, and the visuals were stunning. It’s a movie that truly stands out and deserves all the accolades.\",\n",
    "    \"A truly remarkable film that captivated me from start to finish. The story was unique, and the performances were outstanding. This is a movie that will be remembered for years to come.\",\n",
    "    \"A heartwarming and inspirational movie. The storyline was touching, and the performances were heartfelt. It’s a film that will leave you feeling uplifted and inspired.\",\n",
    "    \"An amazing film with a well-crafted plot. The characters were engaging, and the direction was superb. This is a movie that’s sure to become a favorite for many viewers.\",\n",
    "    \"A superbly crafted film with an engaging story. The acting was exceptional, and the cinematography was beautiful. It’s a movie that will resonate with audiences and leave a lasting impression.\",\n",
    "    \"An outstanding movie with a powerful story. The performances were compelling, and the direction was flawless. This film is a testament to the art of filmmaking and deserves high praise.\",\n",
    "    \"A wonderful film that blends humor and drama seamlessly. The characters were well-developed, and the story was captivating. It’s a movie that will entertain and inspire.\",\n",
    "    \"A brilliant film with a captivating storyline. The acting was superb, and the visuals were stunning. This is a movie that will be remembered for its excellence and creativity.\",\n",
    "    \"A phenomenal film that showcases excellent storytelling. The performances were outstanding, and the direction was top-notch. This movie is a true work of art that deserves recognition.\",\n",
    "    \"A touching and emotional film with a beautiful story. The acting was heartfelt, and the cinematography was stunning. It’s a movie that will leave a lasting impression on its viewers.\",\n",
    "    \"An exceptional movie that blends drama and humor perfectly. The characters were engaging, and the plot was intriguing. This is a film that’s worth watching and will entertain audiences.\",\n",
    "    \"A remarkable film with a strong narrative. The acting was superb, and the direction was flawless. This movie is a testament to the art of filmmaking and deserves high praise.\",\n",
    "    \"An entertaining and engaging film with a well-crafted plot. The performances were excellent, and the cinematography was beautiful. It’s a movie that will captivate and inspire.\",\n",
    "    \"A brilliant film with an original story. The acting was exceptional, and the direction was top-notch. This is a movie that will be remembered for its creativity and excellence.\",\n",
    "    \"An outstanding movie that delivers on all fronts. The story was captivating, and the performances were superb. This film is a must-see for anyone who appreciates great cinema.\",\n",
    "    \"A captivating film with a well-developed plot. The acting was outstanding, and the cinematography was beautiful. It’s a movie that will resonate with audiences and leave a lasting impression.\",\n",
    "    \"A heartwarming and inspirational film that’s worth watching. The story was touching, and the performances were exceptional. This movie will leave you feeling uplifted and inspired.\",\n",
    "    \"An exceptional film with a compelling story. The acting was superb, and the direction was flawless. This is a movie that deserves recognition for its excellence and creativity.\",\n",
    "    \"A superbly crafted film with a captivating narrative. The characters were well-developed, and the plot was engaging. It’s a movie that will entertain and inspire audiences.\",\n",
    "    \"A remarkable movie that combines humor and drama seamlessly. The acting was exceptional, and the direction was top-notch. This is a film that will be remembered for its excellence.\",\n",
    "    \"An amazing film with a unique storyline. The performances were outstanding, and the direction was superb. It’s a movie that delivers on all fronts and is sure to entertain.\",\n",
    "    \"A brilliant film with a powerful story. The acting was exceptional, and the cinematography was stunning. This is a movie that will captivate and inspire audiences.\",\n",
    "    \"An extraordinary film that exceeded all expectations. The direction was flawless, and the performances were outstanding. This movie is a true work of art and deserves high praise.\",\n",
    "    \"A delightful film that’s worth watching. The story was engaging, and the characters were well-developed. This movie will entertain and inspire audiences with its excellent storytelling.\",\n",
    "    \"An outstanding movie with a well-crafted plot. The acting was superb, and the direction was top-notch. This is a film that will leave a lasting impression on its viewers.\",\n",
    "    \"A heartwarming film with an emotional story. The performances were exceptional, and the cinematography was beautiful. It’s a movie that will resonate with audiences and leave a mark.\",\n",
    "    \"A phenomenal film with an engaging storyline. The acting was superb, and the direction was flawless. This is a movie that showcases excellent filmmaking and deserves recognition.\",\n",
    "    \"An exceptional film that blends drama and humor perfectly. The characters were engaging, and the plot was captivating. It’s a movie that will entertain and inspire viewers.\",\n",
    "    \"A remarkable film with a unique narrative. The performances were outstanding, and the direction was top-notch. This movie is a true gem and deserves high praise.\",\n",
    "    \"An amazing movie with a well-developed plot. The acting was superb, and the cinematography was stunning. It’s a film that will captivate audiences and leave a lasting impression.\",\n",
    "    \"A brilliant film with a captivating story. The performances were exceptional, and the direction was flawless. This is a movie that showcases the art of filmmaking at its best.\",\n",
    "    \"A superb film with an engaging narrative. The characters were well-developed, and the plot was captivating. This movie will entertain and inspire viewers with its excellence.\",\n",
    "    \"An extraordinary film that combines humor and drama seamlessly. The acting was outstanding, and the direction was top-notch. It’s a movie that will be remembered for its creativity.\",\n",
    "    \"A heartwarming and emotional film that’s worth watching. The story was touching, and the performances were exceptional. This movie will leave you feeling uplifted and inspired.\",\n",
    "    \"A captivating film with a well-crafted plot. The acting was superb, and the cinematography was beautiful. It’s a movie that will resonate with audiences and leave a lasting impression.\",\n",
    "    \"An outstanding movie with a unique storyline. The performances were exceptional, and the direction was top-notch. This is a film that deserves recognition for its excellence.\",\n",
    "    \"A brilliant film with a powerful story. The acting was superb, and the direction was flawless. This movie will captivate and inspire audiences with its exceptional storytelling.\",\n",
    "    \"A remarkable film with an engaging narrative. The characters were well-developed, and the plot was captivating. It’s a movie that will entertain and inspire viewers.\",\n",
    "    \"An amazing film with a heartwarming story. The acting was exceptional, and the cinematography\"]\n"
   ]
  },
  {
   "cell_type": "code",
   "execution_count": 2,
   "metadata": {},
   "outputs": [],
   "source": [
    "negative_reviews = [\n",
    "    \"A complete disappointment. The story was predictable and the acting was wooden. The film dragged on without any real excitement or depth. Definitely not worth the watch.\",\n",
    "    \"Terribly boring and unoriginal. The characters lacked depth, and the plot was clichéd and uninspired. The special effects were mediocre at best. Avoid this one if you value your time.\",\n",
    "    \"A huge letdown. The movie tried to be something it wasn’t and failed miserably. The pacing was off, and the dialogue was cringe-worthy. It’s a film that leaves much to be desired.\",\n",
    "    \"One of the worst movies I’ve seen in a while. The acting was over-the-top, the plot was convoluted, and the special effects were laughable. A real chore to sit through.\",\n",
    "    \"An absolute mess of a film. The storyline was disjointed, the characters were uninteresting, and the overall execution was poor. It’s a movie best forgotten.\",\n",
    "    \"The film was a disaster from start to finish. The plot was nonsensical, the acting was atrocious, and the pacing was painfully slow. I wouldn’t recommend it to anyone.\",\n",
    "    \"A real flop. The movie lacked coherence and failed to deliver any meaningful content. The characters were flat and the narrative was confusing. Not worth the watch.\",\n",
    "    \"Extremely disappointing. The film promised a lot but delivered very little. The story was boring, the acting was mediocre, and the film dragged on endlessly. A definite miss.\",\n",
    "    \"A tedious and uninspired film. The storyline was cliché, the characters were one-dimensional, and the overall execution was poor. It’s a movie that fails to entertain.\",\n",
    "    \"Simply awful. The movie was a tedious slog with no redeeming qualities. The plot was nonsensical, and the acting was subpar. Save your time and skip this one.\",\n",
    "    \"An utter disappointment. The film had a great premise but failed in execution. The characters were underdeveloped, and the plot was unoriginal and dull.\",\n",
    "    \"A lackluster film with nothing new to offer. The story was predictable, the acting was bland, and the special effects were unimpressive. It’s a movie you can easily skip.\",\n",
    "    \"An exhausting and tedious watch. The movie was filled with clichés and lacked any real substance. The acting was wooden, and the plot was both boring and predictable.\",\n",
    "    \"A poor excuse for a film. The direction was lackluster, the acting was subpar, and the storyline was convoluted. It’s a movie that fails to deliver on any front.\",\n",
    "    \"An uninspired and poorly executed film. The characters were uninteresting, the plot was dull, and the overall experience was forgettable. Definitely not worth the time.\",\n",
    "    \"A massive letdown. The movie was filled with clichés, and the plot was both predictable and unoriginal. The acting was substandard, and the film dragged on endlessly.\",\n",
    "    \"An absolute waste of time. The film was tedious, unoriginal, and poorly executed. The characters were one-dimensional, and the storyline was both boring and predictable.\",\n",
    "    \"A disappointing film that failed to deliver. The plot was lackluster, the acting was mediocre, and the overall experience was underwhelming. It’s a movie to avoid.\",\n",
    "    \"A dreary and uninspired film. The story was slow and predictable, the acting was wooden, and the direction was lackluster. This movie does not offer anything of value.\",\n",
    "    \"A mess of a film that lacks coherence. The plot was confusing, the acting was poor, and the overall execution was disjointed. It’s a movie that should be skipped.\",\n",
    "    \"An unremarkable film with little to offer. The characters were flat, the plot was dull, and the acting was uninspired. It’s a movie that doesn’t leave any lasting impression.\",\n",
    "    \"A film that fails to engage or entertain. The story was clichéd, the acting was wooden, and the overall experience was forgettable. Not worth the investment of time.\",\n",
    "    \"An uninspired and lackluster film. The plot was predictable, the acting was mediocre, and the direction was poor. It’s a movie that offers very little in terms of enjoyment.\",\n",
    "    \"A disappointing and tedious watch. The film was filled with clichés, the characters were uninteresting, and the plot was both dull and predictable. It’s a movie to skip.\",\n",
    "    \"An absolute failure of a film. The story was disjointed, the acting was poor, and the overall execution was subpar. It’s a movie that fails to deliver on all fronts.\",\n",
    "    \"A dreary and unoriginal film. The plot was predictable, the characters were flat, and the acting was uninspired. It’s a movie that lacks both creativity and substance.\",\n",
    "    \"A film that falls flat in every aspect. The story was dull, the acting was wooden, and the overall experience was forgettable. Not worth watching at all.\",\n",
    "    \"A tedious and uninspired film. The characters were one-dimensional, the plot was dull, and the overall execution was poor. It’s a movie that fails to entertain.\",\n",
    "    \"An underwhelming film with a poor storyline. The acting was subpar, and the direction was lackluster. This movie is a disappointing experience that fails to deliver.\",\n",
    "    \"A lackluster and uninspired film. The story was clichéd, the characters were flat, and the overall execution was poor. It’s a movie that doesn’t offer much value.\",\n",
    "    \"A film that fails to captivate. The plot was predictable, the acting was mediocre, and the overall experience was forgettable. It’s a movie that doesn’t stand out.\",\n",
    "    \"An unimpressive film with a poor storyline. The acting was lackluster, and the direction was uninspired. This movie is a disappointing experience that should be avoided.\",\n",
    "    \"A film that fails to deliver on its promises. The story was dull, the characters were flat, and the acting was substandard. It’s a movie that doesn’t engage or entertain.\",\n",
    "    \"A disappointing and forgettable film. The plot was lackluster, the acting was mediocre, and the overall experience was underwhelming. It’s a movie to skip.\",\n",
    "    \"An uninspired film with a poor narrative. The characters were uninteresting, and the acting was wooden. This movie is a forgettable experience that fails to impress.\",\n",
    "    \"A film that lacks both creativity and execution. The story was predictable, the acting was subpar, and the overall experience was dull. It’s a movie that doesn’t stand out.\",\n",
    "    \"A poorly executed film with a lackluster storyline. The acting was uninspired, and the direction was poor. It’s a movie that doesn’t offer much in terms of enjoyment.\",\n",
    "    \"An unoriginal and tedious film. The plot was dull, the characters were flat, and the acting was lackluster. This movie is a disappointment that fails to entertain.\",\n",
    "    \"A film that fails to engage. The story was clichéd, the acting was wooden, and the overall execution was poor. It’s a movie that doesn’t offer anything of value.\",\n",
    "    \"An uninspired film with a dull storyline. The characters were one-dimensional, and the acting was mediocre. It’s a movie that doesn’t leave any lasting impression.\",\n",
    "    \"A film that falls short in every aspect. The plot was predictable, the acting was subpar, and the overall experience was forgettable. It’s a movie that should be skipped.\",\n",
    "    \"A dreary and poorly executed film. The story was lackluster, the characters were flat, and the acting was uninspired. It’s a movie that fails to deliver any real value.\",\n",
    "    \"An uninspired and dull film. The plot was predictable, the acting was wooden, and the overall experience was forgettable. This movie is a disappointment.\",\n",
    "    \"A film that fails to impress. The story was clichéd, the acting was subpar, and the overall execution was poor. It’s a movie that doesn’t stand out in any way.\",\n",
    "    \"A lackluster film with a dull plot. The characters were flat, the acting was uninspired, and the overall experience was forgettable. This movie is not worth watching.\",\n",
    "    \"An underwhelming film with poor execution. The story was clichéd, the acting was mediocre, and the overall experience was dull. It’s a movie that fails to entertain.\",\n",
    "    \"A disappointing and tedious film. The plot was dull, the characters were flat, and the acting was lackluster. It’s a movie that doesn’t offer much in terms of enjoyment.\",\n",
    "    \"A film that lacks both originality and execution. The storyline was predictable, the acting was poor, and the overall experience was forgettable.\",\n",
    "    \"An uninspired and boring film. The characters were one-dimensional, the plot was dull, and the overall execution was lackluster. It’s a movie to avoid.\",\n",
    "    \"A film that fails to engage or entertain. The story was clichéd, the acting was wooden, and the overall experience was forgettable. It’s a movie that misses the mark.\",\n",
    "    \"A lackluster and uninspired film. The storyline was predictable, the characters were flat, and the acting was subpar. It’s a movie that fails to deliver.\",\n",
    "    \"A film that falls flat in every aspect. The plot was dull, the acting was mediocre, and the overall experience was forgettable. It’s a movie to skip.\",\n",
    "    \"An unremarkable film with a poor narrative. The characters were uninteresting, the plot was clichéd, and the acting was lackluster. It’s a movie that doesn’t stand out.\",\n",
    "    \"A film that fails to entertain. The storyline was dull, the acting was wooden, and the overall execution was poor.\" ]\n"
   ]
  },
  {
   "cell_type": "code",
   "execution_count": 3,
   "metadata": {},
   "outputs": [],
   "source": [
    "import pandas as pd"
   ]
  },
  {
   "cell_type": "code",
   "execution_count": 4,
   "metadata": {},
   "outputs": [],
   "source": [
    "positive_labels = [1] * len(positive_reviews)\n",
    "negative_labels = [0] * len(negative_reviews)"
   ]
  },
  {
   "cell_type": "code",
   "execution_count": 5,
   "metadata": {},
   "outputs": [],
   "source": [
    "reviews = positive_reviews + negative_reviews\n",
    "labels = positive_labels + negative_labels"
   ]
  },
  {
   "cell_type": "code",
   "execution_count": 8,
   "metadata": {},
   "outputs": [],
   "source": [
    "df = pd.DataFrame({'review' : reviews,'label' : labels})"
   ]
  },
  {
   "cell_type": "code",
   "execution_count": 9,
   "metadata": {},
   "outputs": [
    {
     "data": {
      "text/html": [
       "<div>\n",
       "<style scoped>\n",
       "    .dataframe tbody tr th:only-of-type {\n",
       "        vertical-align: middle;\n",
       "    }\n",
       "\n",
       "    .dataframe tbody tr th {\n",
       "        vertical-align: top;\n",
       "    }\n",
       "\n",
       "    .dataframe thead th {\n",
       "        text-align: right;\n",
       "    }\n",
       "</style>\n",
       "<table border=\"1\" class=\"dataframe\">\n",
       "  <thead>\n",
       "    <tr style=\"text-align: right;\">\n",
       "      <th></th>\n",
       "      <th>review</th>\n",
       "      <th>label</th>\n",
       "    </tr>\n",
       "  </thead>\n",
       "  <tbody>\n",
       "    <tr>\n",
       "      <th>0</th>\n",
       "      <td>Incredible movie with a heartwarming story! Th...</td>\n",
       "      <td>1</td>\n",
       "    </tr>\n",
       "    <tr>\n",
       "      <th>1</th>\n",
       "      <td>Absolutely fantastic! The plot was engaging fr...</td>\n",
       "      <td>1</td>\n",
       "    </tr>\n",
       "    <tr>\n",
       "      <th>2</th>\n",
       "      <td>An exhilarating and emotional rollercoaster. T...</td>\n",
       "      <td>1</td>\n",
       "    </tr>\n",
       "    <tr>\n",
       "      <th>3</th>\n",
       "      <td>This is one of the best films I have ever seen...</td>\n",
       "      <td>1</td>\n",
       "    </tr>\n",
       "    <tr>\n",
       "      <th>4</th>\n",
       "      <td>A true gem of cinema. The film combines excell...</td>\n",
       "      <td>1</td>\n",
       "    </tr>\n",
       "    <tr>\n",
       "      <th>...</th>\n",
       "      <td>...</td>\n",
       "      <td>...</td>\n",
       "    </tr>\n",
       "    <tr>\n",
       "      <th>105</th>\n",
       "      <td>A film that fails to engage or entertain. The ...</td>\n",
       "      <td>0</td>\n",
       "    </tr>\n",
       "    <tr>\n",
       "      <th>106</th>\n",
       "      <td>A lackluster and uninspired film. The storylin...</td>\n",
       "      <td>0</td>\n",
       "    </tr>\n",
       "    <tr>\n",
       "      <th>107</th>\n",
       "      <td>A film that falls flat in every aspect. The pl...</td>\n",
       "      <td>0</td>\n",
       "    </tr>\n",
       "    <tr>\n",
       "      <th>108</th>\n",
       "      <td>An unremarkable film with a poor narrative. Th...</td>\n",
       "      <td>0</td>\n",
       "    </tr>\n",
       "    <tr>\n",
       "      <th>109</th>\n",
       "      <td>A film that fails to entertain. The storyline ...</td>\n",
       "      <td>0</td>\n",
       "    </tr>\n",
       "  </tbody>\n",
       "</table>\n",
       "<p>110 rows × 2 columns</p>\n",
       "</div>"
      ],
      "text/plain": [
       "                                                review  label\n",
       "0    Incredible movie with a heartwarming story! Th...      1\n",
       "1    Absolutely fantastic! The plot was engaging fr...      1\n",
       "2    An exhilarating and emotional rollercoaster. T...      1\n",
       "3    This is one of the best films I have ever seen...      1\n",
       "4    A true gem of cinema. The film combines excell...      1\n",
       "..                                                 ...    ...\n",
       "105  A film that fails to engage or entertain. The ...      0\n",
       "106  A lackluster and uninspired film. The storylin...      0\n",
       "107  A film that falls flat in every aspect. The pl...      0\n",
       "108  An unremarkable film with a poor narrative. Th...      0\n",
       "109  A film that fails to entertain. The storyline ...      0\n",
       "\n",
       "[110 rows x 2 columns]"
      ]
     },
     "execution_count": 9,
     "metadata": {},
     "output_type": "execute_result"
    }
   ],
   "source": [
    "df"
   ]
  },
  {
   "cell_type": "code",
   "execution_count": 13,
   "metadata": {},
   "outputs": [],
   "source": [
    "import nltk\n",
    "from nltk import word_tokenize\n",
    "from nltk.corpus import stopwords\n",
    "import string\n",
    "from nltk.stem import WordNetLemmatizer\n",
    "lemmatizer = WordNetLemmatizer()"
   ]
  },
  {
   "cell_type": "code",
   "execution_count": 16,
   "metadata": {},
   "outputs": [],
   "source": [
    "def preprocessing(sentence):\n",
    "    words = word_tokenize(sentence)\n",
    "\n",
    "    final = []\n",
    "    for word in words:\n",
    "        if word not in set(stopwords.words('english')) and word not in set(string.punctuation):\n",
    "            word = word.lower()\n",
    "            word = lemmatizer.lemmatize(word)\n",
    "            final.append(word)\n",
    "    \n",
    "    return ' '.join(final)"
   ]
  },
  {
   "cell_type": "code",
   "execution_count": 21,
   "metadata": {},
   "outputs": [],
   "source": [
    "\n",
    "df['review'] = df['review'].apply(preprocessing)"
   ]
  },
  {
   "cell_type": "code",
   "execution_count": 22,
   "metadata": {},
   "outputs": [
    {
     "data": {
      "text/html": [
       "<div>\n",
       "<style scoped>\n",
       "    .dataframe tbody tr th:only-of-type {\n",
       "        vertical-align: middle;\n",
       "    }\n",
       "\n",
       "    .dataframe tbody tr th {\n",
       "        vertical-align: top;\n",
       "    }\n",
       "\n",
       "    .dataframe thead th {\n",
       "        text-align: right;\n",
       "    }\n",
       "</style>\n",
       "<table border=\"1\" class=\"dataframe\">\n",
       "  <thead>\n",
       "    <tr style=\"text-align: right;\">\n",
       "      <th></th>\n",
       "      <th>review</th>\n",
       "      <th>label</th>\n",
       "    </tr>\n",
       "  </thead>\n",
       "  <tbody>\n",
       "    <tr>\n",
       "      <th>0</th>\n",
       "      <td>incredible movie heartwarming story the perfor...</td>\n",
       "      <td>1</td>\n",
       "    </tr>\n",
       "    <tr>\n",
       "      <th>1</th>\n",
       "      <td>absolutely fantastic the plot engaging start f...</td>\n",
       "      <td>1</td>\n",
       "    </tr>\n",
       "    <tr>\n",
       "      <th>2</th>\n",
       "      <td>an exhilarating emotional rollercoaster the di...</td>\n",
       "      <td>1</td>\n",
       "    </tr>\n",
       "    <tr>\n",
       "      <th>3</th>\n",
       "      <td>this one best film i ever seen the storyline u...</td>\n",
       "      <td>1</td>\n",
       "    </tr>\n",
       "    <tr>\n",
       "      <th>4</th>\n",
       "      <td>a true gem cinema the film combine excellent s...</td>\n",
       "      <td>1</td>\n",
       "    </tr>\n",
       "    <tr>\n",
       "      <th>...</th>\n",
       "      <td>...</td>\n",
       "      <td>...</td>\n",
       "    </tr>\n",
       "    <tr>\n",
       "      <th>105</th>\n",
       "      <td>a film fails engage entertain the story cliché...</td>\n",
       "      <td>0</td>\n",
       "    </tr>\n",
       "    <tr>\n",
       "      <th>106</th>\n",
       "      <td>a lackluster uninspired film the storyline pre...</td>\n",
       "      <td>0</td>\n",
       "    </tr>\n",
       "    <tr>\n",
       "      <th>107</th>\n",
       "      <td>a film fall flat every aspect the plot dull ac...</td>\n",
       "      <td>0</td>\n",
       "    </tr>\n",
       "    <tr>\n",
       "      <th>108</th>\n",
       "      <td>an unremarkable film poor narrative the charac...</td>\n",
       "      <td>0</td>\n",
       "    </tr>\n",
       "    <tr>\n",
       "      <th>109</th>\n",
       "      <td>a film fails entertain the storyline dull acti...</td>\n",
       "      <td>0</td>\n",
       "    </tr>\n",
       "  </tbody>\n",
       "</table>\n",
       "<p>110 rows × 2 columns</p>\n",
       "</div>"
      ],
      "text/plain": [
       "                                                review  label\n",
       "0    incredible movie heartwarming story the perfor...      1\n",
       "1    absolutely fantastic the plot engaging start f...      1\n",
       "2    an exhilarating emotional rollercoaster the di...      1\n",
       "3    this one best film i ever seen the storyline u...      1\n",
       "4    a true gem cinema the film combine excellent s...      1\n",
       "..                                                 ...    ...\n",
       "105  a film fails engage entertain the story cliché...      0\n",
       "106  a lackluster uninspired film the storyline pre...      0\n",
       "107  a film fall flat every aspect the plot dull ac...      0\n",
       "108  an unremarkable film poor narrative the charac...      0\n",
       "109  a film fails entertain the storyline dull acti...      0\n",
       "\n",
       "[110 rows x 2 columns]"
      ]
     },
     "execution_count": 22,
     "metadata": {},
     "output_type": "execute_result"
    }
   ],
   "source": [
    "df"
   ]
  },
  {
   "cell_type": "code",
   "execution_count": 23,
   "metadata": {},
   "outputs": [],
   "source": [
    "from sklearn.feature_extraction.text import CountVectorizer\n",
    "vectorizer = CountVectorizer()"
   ]
  },
  {
   "cell_type": "code",
   "execution_count": 30,
   "metadata": {},
   "outputs": [],
   "source": [
    "x = vectorizer.fit_transform(df['review'])"
   ]
  },
  {
   "cell_type": "code",
   "execution_count": 31,
   "metadata": {},
   "outputs": [],
   "source": [
    "x = x.toarray()"
   ]
  },
  {
   "cell_type": "code",
   "execution_count": 32,
   "metadata": {},
   "outputs": [
    {
     "data": {
      "text/plain": [
       "array([[0, 0, 0, ..., 0, 0, 0],\n",
       "       [0, 1, 0, ..., 0, 0, 0],\n",
       "       [0, 0, 0, ..., 0, 0, 0],\n",
       "       ...,\n",
       "       [0, 0, 0, ..., 0, 0, 0],\n",
       "       [0, 0, 0, ..., 0, 0, 0],\n",
       "       [0, 0, 0, ..., 0, 0, 0]], dtype=int64)"
      ]
     },
     "execution_count": 32,
     "metadata": {},
     "output_type": "execute_result"
    }
   ],
   "source": [
    "x"
   ]
  },
  {
   "cell_type": "code",
   "execution_count": 38,
   "metadata": {},
   "outputs": [],
   "source": [
    "x_df = pd.DataFrame(x,columns=vectorizer.get_feature_names_out())"
   ]
  },
  {
   "cell_type": "code",
   "execution_count": 39,
   "metadata": {},
   "outputs": [
    {
     "data": {
      "text/html": [
       "<div>\n",
       "<style scoped>\n",
       "    .dataframe tbody tr th:only-of-type {\n",
       "        vertical-align: middle;\n",
       "    }\n",
       "\n",
       "    .dataframe tbody tr th {\n",
       "        vertical-align: top;\n",
       "    }\n",
       "\n",
       "    .dataframe thead th {\n",
       "        text-align: right;\n",
       "    }\n",
       "</style>\n",
       "<table border=\"1\" class=\"dataframe\">\n",
       "  <thead>\n",
       "    <tr style=\"text-align: right;\">\n",
       "      <th></th>\n",
       "      <th>absolute</th>\n",
       "      <th>absolutely</th>\n",
       "      <th>accolade</th>\n",
       "      <th>acting</th>\n",
       "      <th>actor</th>\n",
       "      <th>amazing</th>\n",
       "      <th>an</th>\n",
       "      <th>anyone</th>\n",
       "      <th>anything</th>\n",
       "      <th>appreciates</th>\n",
       "      <th>...</th>\n",
       "      <th>wooden</th>\n",
       "      <th>word</th>\n",
       "      <th>work</th>\n",
       "      <th>world</th>\n",
       "      <th>worst</th>\n",
       "      <th>worth</th>\n",
       "      <th>worthy</th>\n",
       "      <th>would</th>\n",
       "      <th>written</th>\n",
       "      <th>year</th>\n",
       "    </tr>\n",
       "  </thead>\n",
       "  <tbody>\n",
       "    <tr>\n",
       "      <th>0</th>\n",
       "      <td>0</td>\n",
       "      <td>0</td>\n",
       "      <td>0</td>\n",
       "      <td>0</td>\n",
       "      <td>0</td>\n",
       "      <td>0</td>\n",
       "      <td>0</td>\n",
       "      <td>0</td>\n",
       "      <td>0</td>\n",
       "      <td>0</td>\n",
       "      <td>...</td>\n",
       "      <td>0</td>\n",
       "      <td>0</td>\n",
       "      <td>0</td>\n",
       "      <td>0</td>\n",
       "      <td>0</td>\n",
       "      <td>0</td>\n",
       "      <td>0</td>\n",
       "      <td>0</td>\n",
       "      <td>0</td>\n",
       "      <td>0</td>\n",
       "    </tr>\n",
       "    <tr>\n",
       "      <th>1</th>\n",
       "      <td>0</td>\n",
       "      <td>1</td>\n",
       "      <td>0</td>\n",
       "      <td>0</td>\n",
       "      <td>0</td>\n",
       "      <td>0</td>\n",
       "      <td>0</td>\n",
       "      <td>0</td>\n",
       "      <td>0</td>\n",
       "      <td>0</td>\n",
       "      <td>...</td>\n",
       "      <td>0</td>\n",
       "      <td>0</td>\n",
       "      <td>0</td>\n",
       "      <td>1</td>\n",
       "      <td>0</td>\n",
       "      <td>0</td>\n",
       "      <td>0</td>\n",
       "      <td>0</td>\n",
       "      <td>0</td>\n",
       "      <td>0</td>\n",
       "    </tr>\n",
       "    <tr>\n",
       "      <th>2</th>\n",
       "      <td>0</td>\n",
       "      <td>0</td>\n",
       "      <td>0</td>\n",
       "      <td>1</td>\n",
       "      <td>0</td>\n",
       "      <td>0</td>\n",
       "      <td>1</td>\n",
       "      <td>0</td>\n",
       "      <td>0</td>\n",
       "      <td>0</td>\n",
       "      <td>...</td>\n",
       "      <td>0</td>\n",
       "      <td>0</td>\n",
       "      <td>0</td>\n",
       "      <td>0</td>\n",
       "      <td>0</td>\n",
       "      <td>0</td>\n",
       "      <td>0</td>\n",
       "      <td>0</td>\n",
       "      <td>0</td>\n",
       "      <td>0</td>\n",
       "    </tr>\n",
       "    <tr>\n",
       "      <th>3</th>\n",
       "      <td>0</td>\n",
       "      <td>0</td>\n",
       "      <td>0</td>\n",
       "      <td>1</td>\n",
       "      <td>0</td>\n",
       "      <td>0</td>\n",
       "      <td>0</td>\n",
       "      <td>0</td>\n",
       "      <td>0</td>\n",
       "      <td>0</td>\n",
       "      <td>...</td>\n",
       "      <td>0</td>\n",
       "      <td>0</td>\n",
       "      <td>0</td>\n",
       "      <td>0</td>\n",
       "      <td>0</td>\n",
       "      <td>0</td>\n",
       "      <td>0</td>\n",
       "      <td>0</td>\n",
       "      <td>0</td>\n",
       "      <td>0</td>\n",
       "    </tr>\n",
       "    <tr>\n",
       "      <th>4</th>\n",
       "      <td>0</td>\n",
       "      <td>0</td>\n",
       "      <td>0</td>\n",
       "      <td>0</td>\n",
       "      <td>0</td>\n",
       "      <td>0</td>\n",
       "      <td>0</td>\n",
       "      <td>0</td>\n",
       "      <td>0</td>\n",
       "      <td>0</td>\n",
       "      <td>...</td>\n",
       "      <td>0</td>\n",
       "      <td>0</td>\n",
       "      <td>0</td>\n",
       "      <td>0</td>\n",
       "      <td>0</td>\n",
       "      <td>1</td>\n",
       "      <td>0</td>\n",
       "      <td>0</td>\n",
       "      <td>0</td>\n",
       "      <td>0</td>\n",
       "    </tr>\n",
       "    <tr>\n",
       "      <th>...</th>\n",
       "      <td>...</td>\n",
       "      <td>...</td>\n",
       "      <td>...</td>\n",
       "      <td>...</td>\n",
       "      <td>...</td>\n",
       "      <td>...</td>\n",
       "      <td>...</td>\n",
       "      <td>...</td>\n",
       "      <td>...</td>\n",
       "      <td>...</td>\n",
       "      <td>...</td>\n",
       "      <td>...</td>\n",
       "      <td>...</td>\n",
       "      <td>...</td>\n",
       "      <td>...</td>\n",
       "      <td>...</td>\n",
       "      <td>...</td>\n",
       "      <td>...</td>\n",
       "      <td>...</td>\n",
       "      <td>...</td>\n",
       "      <td>...</td>\n",
       "    </tr>\n",
       "    <tr>\n",
       "      <th>105</th>\n",
       "      <td>0</td>\n",
       "      <td>0</td>\n",
       "      <td>0</td>\n",
       "      <td>1</td>\n",
       "      <td>0</td>\n",
       "      <td>0</td>\n",
       "      <td>0</td>\n",
       "      <td>0</td>\n",
       "      <td>0</td>\n",
       "      <td>0</td>\n",
       "      <td>...</td>\n",
       "      <td>1</td>\n",
       "      <td>0</td>\n",
       "      <td>0</td>\n",
       "      <td>0</td>\n",
       "      <td>0</td>\n",
       "      <td>0</td>\n",
       "      <td>0</td>\n",
       "      <td>0</td>\n",
       "      <td>0</td>\n",
       "      <td>0</td>\n",
       "    </tr>\n",
       "    <tr>\n",
       "      <th>106</th>\n",
       "      <td>0</td>\n",
       "      <td>0</td>\n",
       "      <td>0</td>\n",
       "      <td>1</td>\n",
       "      <td>0</td>\n",
       "      <td>0</td>\n",
       "      <td>0</td>\n",
       "      <td>0</td>\n",
       "      <td>0</td>\n",
       "      <td>0</td>\n",
       "      <td>...</td>\n",
       "      <td>0</td>\n",
       "      <td>0</td>\n",
       "      <td>0</td>\n",
       "      <td>0</td>\n",
       "      <td>0</td>\n",
       "      <td>0</td>\n",
       "      <td>0</td>\n",
       "      <td>0</td>\n",
       "      <td>0</td>\n",
       "      <td>0</td>\n",
       "    </tr>\n",
       "    <tr>\n",
       "      <th>107</th>\n",
       "      <td>0</td>\n",
       "      <td>0</td>\n",
       "      <td>0</td>\n",
       "      <td>1</td>\n",
       "      <td>0</td>\n",
       "      <td>0</td>\n",
       "      <td>0</td>\n",
       "      <td>0</td>\n",
       "      <td>0</td>\n",
       "      <td>0</td>\n",
       "      <td>...</td>\n",
       "      <td>0</td>\n",
       "      <td>0</td>\n",
       "      <td>0</td>\n",
       "      <td>0</td>\n",
       "      <td>0</td>\n",
       "      <td>0</td>\n",
       "      <td>0</td>\n",
       "      <td>0</td>\n",
       "      <td>0</td>\n",
       "      <td>0</td>\n",
       "    </tr>\n",
       "    <tr>\n",
       "      <th>108</th>\n",
       "      <td>0</td>\n",
       "      <td>0</td>\n",
       "      <td>0</td>\n",
       "      <td>1</td>\n",
       "      <td>0</td>\n",
       "      <td>0</td>\n",
       "      <td>1</td>\n",
       "      <td>0</td>\n",
       "      <td>0</td>\n",
       "      <td>0</td>\n",
       "      <td>...</td>\n",
       "      <td>0</td>\n",
       "      <td>0</td>\n",
       "      <td>0</td>\n",
       "      <td>0</td>\n",
       "      <td>0</td>\n",
       "      <td>0</td>\n",
       "      <td>0</td>\n",
       "      <td>0</td>\n",
       "      <td>0</td>\n",
       "      <td>0</td>\n",
       "    </tr>\n",
       "    <tr>\n",
       "      <th>109</th>\n",
       "      <td>0</td>\n",
       "      <td>0</td>\n",
       "      <td>0</td>\n",
       "      <td>1</td>\n",
       "      <td>0</td>\n",
       "      <td>0</td>\n",
       "      <td>0</td>\n",
       "      <td>0</td>\n",
       "      <td>0</td>\n",
       "      <td>0</td>\n",
       "      <td>...</td>\n",
       "      <td>1</td>\n",
       "      <td>0</td>\n",
       "      <td>0</td>\n",
       "      <td>0</td>\n",
       "      <td>0</td>\n",
       "      <td>0</td>\n",
       "      <td>0</td>\n",
       "      <td>0</td>\n",
       "      <td>0</td>\n",
       "      <td>0</td>\n",
       "    </tr>\n",
       "  </tbody>\n",
       "</table>\n",
       "<p>110 rows × 310 columns</p>\n",
       "</div>"
      ],
      "text/plain": [
       "     absolute  absolutely  accolade  acting  actor  amazing  an  anyone  \\\n",
       "0           0           0         0       0      0        0   0       0   \n",
       "1           0           1         0       0      0        0   0       0   \n",
       "2           0           0         0       1      0        0   1       0   \n",
       "3           0           0         0       1      0        0   0       0   \n",
       "4           0           0         0       0      0        0   0       0   \n",
       "..        ...         ...       ...     ...    ...      ...  ..     ...   \n",
       "105         0           0         0       1      0        0   0       0   \n",
       "106         0           0         0       1      0        0   0       0   \n",
       "107         0           0         0       1      0        0   0       0   \n",
       "108         0           0         0       1      0        0   1       0   \n",
       "109         0           0         0       1      0        0   0       0   \n",
       "\n",
       "     anything  appreciates  ...  wooden  word  work  world  worst  worth  \\\n",
       "0           0            0  ...       0     0     0      0      0      0   \n",
       "1           0            0  ...       0     0     0      1      0      0   \n",
       "2           0            0  ...       0     0     0      0      0      0   \n",
       "3           0            0  ...       0     0     0      0      0      0   \n",
       "4           0            0  ...       0     0     0      0      0      1   \n",
       "..        ...          ...  ...     ...   ...   ...    ...    ...    ...   \n",
       "105         0            0  ...       1     0     0      0      0      0   \n",
       "106         0            0  ...       0     0     0      0      0      0   \n",
       "107         0            0  ...       0     0     0      0      0      0   \n",
       "108         0            0  ...       0     0     0      0      0      0   \n",
       "109         0            0  ...       1     0     0      0      0      0   \n",
       "\n",
       "     worthy  would  written  year  \n",
       "0         0      0        0     0  \n",
       "1         0      0        0     0  \n",
       "2         0      0        0     0  \n",
       "3         0      0        0     0  \n",
       "4         0      0        0     0  \n",
       "..      ...    ...      ...   ...  \n",
       "105       0      0        0     0  \n",
       "106       0      0        0     0  \n",
       "107       0      0        0     0  \n",
       "108       0      0        0     0  \n",
       "109       0      0        0     0  \n",
       "\n",
       "[110 rows x 310 columns]"
      ]
     },
     "execution_count": 39,
     "metadata": {},
     "output_type": "execute_result"
    }
   ],
   "source": [
    "x_df"
   ]
  },
  {
   "cell_type": "code",
   "execution_count": 46,
   "metadata": {},
   "outputs": [],
   "source": [
    "x_final = x_df"
   ]
  },
  {
   "cell_type": "code",
   "execution_count": 47,
   "metadata": {},
   "outputs": [],
   "source": [
    "y = df['label']"
   ]
  },
  {
   "cell_type": "code",
   "execution_count": 48,
   "metadata": {},
   "outputs": [],
   "source": [
    "from sklearn.model_selection import train_test_split \n",
    "from sklearn.linear_model import LogisticRegression"
   ]
  },
  {
   "cell_type": "code",
   "execution_count": 49,
   "metadata": {},
   "outputs": [],
   "source": [
    "x_train,x_test,y_train,y_test = train_test_split(x_final,y,test_size=0.3,random_state=42)"
   ]
  },
  {
   "cell_type": "code",
   "execution_count": 50,
   "metadata": {},
   "outputs": [],
   "source": [
    "model = LogisticRegression()"
   ]
  },
  {
   "cell_type": "code",
   "execution_count": 52,
   "metadata": {},
   "outputs": [
    {
     "data": {
      "text/html": [
       "<style>#sk-container-id-1 {color: black;}#sk-container-id-1 pre{padding: 0;}#sk-container-id-1 div.sk-toggleable {background-color: white;}#sk-container-id-1 label.sk-toggleable__label {cursor: pointer;display: block;width: 100%;margin-bottom: 0;padding: 0.3em;box-sizing: border-box;text-align: center;}#sk-container-id-1 label.sk-toggleable__label-arrow:before {content: \"▸\";float: left;margin-right: 0.25em;color: #696969;}#sk-container-id-1 label.sk-toggleable__label-arrow:hover:before {color: black;}#sk-container-id-1 div.sk-estimator:hover label.sk-toggleable__label-arrow:before {color: black;}#sk-container-id-1 div.sk-toggleable__content {max-height: 0;max-width: 0;overflow: hidden;text-align: left;background-color: #f0f8ff;}#sk-container-id-1 div.sk-toggleable__content pre {margin: 0.2em;color: black;border-radius: 0.25em;background-color: #f0f8ff;}#sk-container-id-1 input.sk-toggleable__control:checked~div.sk-toggleable__content {max-height: 200px;max-width: 100%;overflow: auto;}#sk-container-id-1 input.sk-toggleable__control:checked~label.sk-toggleable__label-arrow:before {content: \"▾\";}#sk-container-id-1 div.sk-estimator input.sk-toggleable__control:checked~label.sk-toggleable__label {background-color: #d4ebff;}#sk-container-id-1 div.sk-label input.sk-toggleable__control:checked~label.sk-toggleable__label {background-color: #d4ebff;}#sk-container-id-1 input.sk-hidden--visually {border: 0;clip: rect(1px 1px 1px 1px);clip: rect(1px, 1px, 1px, 1px);height: 1px;margin: -1px;overflow: hidden;padding: 0;position: absolute;width: 1px;}#sk-container-id-1 div.sk-estimator {font-family: monospace;background-color: #f0f8ff;border: 1px dotted black;border-radius: 0.25em;box-sizing: border-box;margin-bottom: 0.5em;}#sk-container-id-1 div.sk-estimator:hover {background-color: #d4ebff;}#sk-container-id-1 div.sk-parallel-item::after {content: \"\";width: 100%;border-bottom: 1px solid gray;flex-grow: 1;}#sk-container-id-1 div.sk-label:hover label.sk-toggleable__label {background-color: #d4ebff;}#sk-container-id-1 div.sk-serial::before {content: \"\";position: absolute;border-left: 1px solid gray;box-sizing: border-box;top: 0;bottom: 0;left: 50%;z-index: 0;}#sk-container-id-1 div.sk-serial {display: flex;flex-direction: column;align-items: center;background-color: white;padding-right: 0.2em;padding-left: 0.2em;position: relative;}#sk-container-id-1 div.sk-item {position: relative;z-index: 1;}#sk-container-id-1 div.sk-parallel {display: flex;align-items: stretch;justify-content: center;background-color: white;position: relative;}#sk-container-id-1 div.sk-item::before, #sk-container-id-1 div.sk-parallel-item::before {content: \"\";position: absolute;border-left: 1px solid gray;box-sizing: border-box;top: 0;bottom: 0;left: 50%;z-index: -1;}#sk-container-id-1 div.sk-parallel-item {display: flex;flex-direction: column;z-index: 1;position: relative;background-color: white;}#sk-container-id-1 div.sk-parallel-item:first-child::after {align-self: flex-end;width: 50%;}#sk-container-id-1 div.sk-parallel-item:last-child::after {align-self: flex-start;width: 50%;}#sk-container-id-1 div.sk-parallel-item:only-child::after {width: 0;}#sk-container-id-1 div.sk-dashed-wrapped {border: 1px dashed gray;margin: 0 0.4em 0.5em 0.4em;box-sizing: border-box;padding-bottom: 0.4em;background-color: white;}#sk-container-id-1 div.sk-label label {font-family: monospace;font-weight: bold;display: inline-block;line-height: 1.2em;}#sk-container-id-1 div.sk-label-container {text-align: center;}#sk-container-id-1 div.sk-container {/* jupyter's `normalize.less` sets `[hidden] { display: none; }` but bootstrap.min.css set `[hidden] { display: none !important; }` so we also need the `!important` here to be able to override the default hidden behavior on the sphinx rendered scikit-learn.org. See: https://github.com/scikit-learn/scikit-learn/issues/21755 */display: inline-block !important;position: relative;}#sk-container-id-1 div.sk-text-repr-fallback {display: none;}</style><div id=\"sk-container-id-1\" class=\"sk-top-container\"><div class=\"sk-text-repr-fallback\"><pre>LogisticRegression()</pre><b>In a Jupyter environment, please rerun this cell to show the HTML representation or trust the notebook. <br />On GitHub, the HTML representation is unable to render, please try loading this page with nbviewer.org.</b></div><div class=\"sk-container\" hidden><div class=\"sk-item\"><div class=\"sk-estimator sk-toggleable\"><input class=\"sk-toggleable__control sk-hidden--visually\" id=\"sk-estimator-id-1\" type=\"checkbox\" checked><label for=\"sk-estimator-id-1\" class=\"sk-toggleable__label sk-toggleable__label-arrow\">LogisticRegression</label><div class=\"sk-toggleable__content\"><pre>LogisticRegression()</pre></div></div></div></div></div>"
      ],
      "text/plain": [
       "LogisticRegression()"
      ]
     },
     "execution_count": 52,
     "metadata": {},
     "output_type": "execute_result"
    }
   ],
   "source": [
    "model.fit(x_train,y_train)"
   ]
  },
  {
   "cell_type": "code",
   "execution_count": 53,
   "metadata": {},
   "outputs": [],
   "source": [
    "y_pred = model.predict(x_test)"
   ]
  },
  {
   "cell_type": "code",
   "execution_count": 54,
   "metadata": {},
   "outputs": [],
   "source": [
    "from sklearn.metrics import accuracy_score\n"
   ]
  },
  {
   "cell_type": "code",
   "execution_count": 55,
   "metadata": {},
   "outputs": [],
   "source": [
    "acc = accuracy_score(y_test,y_pred)"
   ]
  },
  {
   "cell_type": "code",
   "execution_count": 56,
   "metadata": {},
   "outputs": [
    {
     "data": {
      "text/plain": [
       "1.0"
      ]
     },
     "execution_count": 56,
     "metadata": {},
     "output_type": "execute_result"
    }
   ],
   "source": [
    "acc"
   ]
  },
  {
   "cell_type": "markdown",
   "metadata": {},
   "source": [
    "with naive bayes classifier"
   ]
  },
  {
   "cell_type": "code",
   "execution_count": 57,
   "metadata": {},
   "outputs": [],
   "source": [
    "from sklearn.naive_bayes import MultinomialNB"
   ]
  },
  {
   "cell_type": "code",
   "execution_count": 58,
   "metadata": {},
   "outputs": [],
   "source": [
    "model = MultinomialNB()"
   ]
  },
  {
   "cell_type": "code",
   "execution_count": 59,
   "metadata": {},
   "outputs": [
    {
     "data": {
      "text/html": [
       "<style>#sk-container-id-2 {color: black;}#sk-container-id-2 pre{padding: 0;}#sk-container-id-2 div.sk-toggleable {background-color: white;}#sk-container-id-2 label.sk-toggleable__label {cursor: pointer;display: block;width: 100%;margin-bottom: 0;padding: 0.3em;box-sizing: border-box;text-align: center;}#sk-container-id-2 label.sk-toggleable__label-arrow:before {content: \"▸\";float: left;margin-right: 0.25em;color: #696969;}#sk-container-id-2 label.sk-toggleable__label-arrow:hover:before {color: black;}#sk-container-id-2 div.sk-estimator:hover label.sk-toggleable__label-arrow:before {color: black;}#sk-container-id-2 div.sk-toggleable__content {max-height: 0;max-width: 0;overflow: hidden;text-align: left;background-color: #f0f8ff;}#sk-container-id-2 div.sk-toggleable__content pre {margin: 0.2em;color: black;border-radius: 0.25em;background-color: #f0f8ff;}#sk-container-id-2 input.sk-toggleable__control:checked~div.sk-toggleable__content {max-height: 200px;max-width: 100%;overflow: auto;}#sk-container-id-2 input.sk-toggleable__control:checked~label.sk-toggleable__label-arrow:before {content: \"▾\";}#sk-container-id-2 div.sk-estimator input.sk-toggleable__control:checked~label.sk-toggleable__label {background-color: #d4ebff;}#sk-container-id-2 div.sk-label input.sk-toggleable__control:checked~label.sk-toggleable__label {background-color: #d4ebff;}#sk-container-id-2 input.sk-hidden--visually {border: 0;clip: rect(1px 1px 1px 1px);clip: rect(1px, 1px, 1px, 1px);height: 1px;margin: -1px;overflow: hidden;padding: 0;position: absolute;width: 1px;}#sk-container-id-2 div.sk-estimator {font-family: monospace;background-color: #f0f8ff;border: 1px dotted black;border-radius: 0.25em;box-sizing: border-box;margin-bottom: 0.5em;}#sk-container-id-2 div.sk-estimator:hover {background-color: #d4ebff;}#sk-container-id-2 div.sk-parallel-item::after {content: \"\";width: 100%;border-bottom: 1px solid gray;flex-grow: 1;}#sk-container-id-2 div.sk-label:hover label.sk-toggleable__label {background-color: #d4ebff;}#sk-container-id-2 div.sk-serial::before {content: \"\";position: absolute;border-left: 1px solid gray;box-sizing: border-box;top: 0;bottom: 0;left: 50%;z-index: 0;}#sk-container-id-2 div.sk-serial {display: flex;flex-direction: column;align-items: center;background-color: white;padding-right: 0.2em;padding-left: 0.2em;position: relative;}#sk-container-id-2 div.sk-item {position: relative;z-index: 1;}#sk-container-id-2 div.sk-parallel {display: flex;align-items: stretch;justify-content: center;background-color: white;position: relative;}#sk-container-id-2 div.sk-item::before, #sk-container-id-2 div.sk-parallel-item::before {content: \"\";position: absolute;border-left: 1px solid gray;box-sizing: border-box;top: 0;bottom: 0;left: 50%;z-index: -1;}#sk-container-id-2 div.sk-parallel-item {display: flex;flex-direction: column;z-index: 1;position: relative;background-color: white;}#sk-container-id-2 div.sk-parallel-item:first-child::after {align-self: flex-end;width: 50%;}#sk-container-id-2 div.sk-parallel-item:last-child::after {align-self: flex-start;width: 50%;}#sk-container-id-2 div.sk-parallel-item:only-child::after {width: 0;}#sk-container-id-2 div.sk-dashed-wrapped {border: 1px dashed gray;margin: 0 0.4em 0.5em 0.4em;box-sizing: border-box;padding-bottom: 0.4em;background-color: white;}#sk-container-id-2 div.sk-label label {font-family: monospace;font-weight: bold;display: inline-block;line-height: 1.2em;}#sk-container-id-2 div.sk-label-container {text-align: center;}#sk-container-id-2 div.sk-container {/* jupyter's `normalize.less` sets `[hidden] { display: none; }` but bootstrap.min.css set `[hidden] { display: none !important; }` so we also need the `!important` here to be able to override the default hidden behavior on the sphinx rendered scikit-learn.org. See: https://github.com/scikit-learn/scikit-learn/issues/21755 */display: inline-block !important;position: relative;}#sk-container-id-2 div.sk-text-repr-fallback {display: none;}</style><div id=\"sk-container-id-2\" class=\"sk-top-container\"><div class=\"sk-text-repr-fallback\"><pre>MultinomialNB()</pre><b>In a Jupyter environment, please rerun this cell to show the HTML representation or trust the notebook. <br />On GitHub, the HTML representation is unable to render, please try loading this page with nbviewer.org.</b></div><div class=\"sk-container\" hidden><div class=\"sk-item\"><div class=\"sk-estimator sk-toggleable\"><input class=\"sk-toggleable__control sk-hidden--visually\" id=\"sk-estimator-id-2\" type=\"checkbox\" checked><label for=\"sk-estimator-id-2\" class=\"sk-toggleable__label sk-toggleable__label-arrow\">MultinomialNB</label><div class=\"sk-toggleable__content\"><pre>MultinomialNB()</pre></div></div></div></div></div>"
      ],
      "text/plain": [
       "MultinomialNB()"
      ]
     },
     "execution_count": 59,
     "metadata": {},
     "output_type": "execute_result"
    }
   ],
   "source": [
    "model.fit(x_train,y_train)"
   ]
  },
  {
   "cell_type": "code",
   "execution_count": 60,
   "metadata": {},
   "outputs": [],
   "source": [
    "y_pred = model.predict(x_test)"
   ]
  },
  {
   "cell_type": "code",
   "execution_count": 61,
   "metadata": {},
   "outputs": [],
   "source": [
    "acc_nb = accuracy_score(y_test,y_pred)"
   ]
  },
  {
   "cell_type": "code",
   "execution_count": 62,
   "metadata": {},
   "outputs": [
    {
     "data": {
      "text/plain": [
       "1.0"
      ]
     },
     "execution_count": 62,
     "metadata": {},
     "output_type": "execute_result"
    }
   ],
   "source": [
    "acc_nb"
   ]
  },
  {
   "cell_type": "code",
   "execution_count": 63,
   "metadata": {},
   "outputs": [],
   "source": [
    "y_train_pred = model.predict(x_train)"
   ]
  },
  {
   "cell_type": "code",
   "execution_count": 64,
   "metadata": {},
   "outputs": [],
   "source": [
    "acciracy = accuracy_score(y_train,y_train_pred)"
   ]
  },
  {
   "cell_type": "code",
   "execution_count": 65,
   "metadata": {},
   "outputs": [
    {
     "data": {
      "text/plain": [
       "1.0"
      ]
     },
     "execution_count": 65,
     "metadata": {},
     "output_type": "execute_result"
    }
   ],
   "source": [
    "acciracy"
   ]
  },
  {
   "cell_type": "code",
   "execution_count": null,
   "metadata": {},
   "outputs": [],
   "source": []
  }
 ],
 "metadata": {
  "kernelspec": {
   "display_name": "Python 3",
   "language": "python",
   "name": "python3"
  },
  "language_info": {
   "codemirror_mode": {
    "name": "ipython",
    "version": 3
   },
   "file_extension": ".py",
   "mimetype": "text/x-python",
   "name": "python",
   "nbconvert_exporter": "python",
   "pygments_lexer": "ipython3",
   "version": "3.12.1"
  }
 },
 "nbformat": 4,
 "nbformat_minor": 2
}
